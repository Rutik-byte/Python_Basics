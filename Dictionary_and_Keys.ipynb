{
 "cells": [
  {
   "cell_type": "code",
   "execution_count": 5,
   "metadata": {},
   "outputs": [
    {
     "name": "stdout",
     "output_type": "stream",
     "text": [
      "dict['Name']: Rutik\n",
      "dict['Age']: 20\n",
      "dict['Class']: 3.0\n"
     ]
    }
   ],
   "source": [
    "dict={'Name':'Rutik','Age':20,'Class':3.0}\n",
    "\n",
    "print(\"dict['Name']:\",dict['Name'])\n",
    "print(\"dict['Age']:\",dict['Age'])\n",
    "print(\"dict['Class']:\",dict['Class'])\n"
   ]
  },
  {
   "cell_type": "code",
   "execution_count": 7,
   "metadata": {
    "scrolled": true
   },
   "outputs": [
    {
     "name": "stdout",
     "output_type": "stream",
     "text": [
      "N: Rutik\n",
      "A: 20\n",
      "C: 3.0\n"
     ]
    }
   ],
   "source": [
    "dict={'Name':'Rutik','Age':20,'Class':3.0}\n",
    "\n",
    "print(\"N:\",dict['Name'])\n",
    "print(\"A:\",dict['Age'])\n",
    "print(\"C:\",dict['Class'])"
   ]
  },
  {
   "cell_type": "code",
   "execution_count": 13,
   "metadata": {},
   "outputs": [
    {
     "name": "stdout",
     "output_type": "stream",
     "text": [
      "Pune\n",
      "Bengaluru\n"
     ]
    }
   ],
   "source": [
    "city={\"Maharashtra\":\"Pune\",\"Karnataka\":\"Bengaluru\"}\n",
    "\n",
    "print(city[\"Maharashtra\"])\n",
    "print(city[\"Karnataka\"])\n"
   ]
  },
  {
   "cell_type": "code",
   "execution_count": 16,
   "metadata": {},
   "outputs": [
    {
     "name": "stdout",
     "output_type": "stream",
     "text": [
      "Miami\n",
      "Osaka\n",
      "Mumbai\n"
     ]
    }
   ],
   "source": [
    "city={\"US\":\"New York\",\"Japan\":\"Tokyo\",\"India\":None}\n",
    "\n",
    "city[\"US\"]=\"Miami\"                  #We can assign a new value to an existing key\n",
    "city[\"Japan\"]=\"Osaka\"               #We can assign a new value to an existing key\n",
    "city[\"India\"]=\"Mumbai\"              #We can assign a new value to an existing key\n",
    "\n",
    "print(city[\"US\"])\n",
    "print(city[\"Japan\"])\n",
    "print(city[\"India\"])"
   ]
  },
  {
   "cell_type": "code",
   "execution_count": 18,
   "metadata": {},
   "outputs": [
    {
     "name": "stdout",
     "output_type": "stream",
     "text": [
      "True\n",
      "True\n",
      "True\n",
      "False\n",
      "{'US': 'New York', 'Japan': 'Tokyo', 'India': 'Mumbai'}\n"
     ]
    }
   ],
   "source": [
    "#We can determine whether a key is present in a dictionary or not (using 'in' and 'not in')\n",
    "\n",
    "city={\"US\":\"New York\",\"Japan\":\"Tokyo\",\"India\":\"Mumbai\"}\n",
    "\n",
    "print(\"India\" in city)\n",
    "print(\"South Korea\" not in city)\n",
    "print(\"US\" in city)\n",
    "print(\"Japan\" not in city)\n",
    "\n",
    "print(city)\n"
   ]
  },
  {
   "cell_type": "code",
   "execution_count": 19,
   "metadata": {},
   "outputs": [
    {
     "name": "stdout",
     "output_type": "stream",
     "text": [
      "dict_keys(['US', 'Japan', 'India'])\n",
      "<class 'dict_keys'>\n",
      "dict_values(['New York', 'Tokyo', 'Mumbai'])\n",
      "<class 'dict_values'>\n",
      "dict_items([('US', 'New York'), ('Japan', 'Tokyo'), ('India', 'Mumbai')])\n",
      "<class 'dict_items'>\n"
     ]
    }
   ],
   "source": [
    "#using keys, values and items in dictionary\n",
    "\n",
    "city={\"US\":\"New York\",\"Japan\":\"Tokyo\",\"India\":\"Mumbai\"}\n",
    "\n",
    "print(city.keys())\n",
    "print(type(city.keys()))\n",
    "\n",
    "print(city.values())\n",
    "print(type(city.values()))\n",
    "\n",
    "print(city.items())\n",
    "print(type(city.items()))\n",
    "\n",
    "#keys - US, Japan, India\n",
    "#values - New York, Tokyo, Mumbai\n",
    "#items - (US, New York); (Japan,Tokyo); (India,Mumbai)\n"
   ]
  },
  {
   "cell_type": "code",
   "execution_count": 21,
   "metadata": {},
   "outputs": [
    {
     "name": "stdout",
     "output_type": "stream",
     "text": [
      "Seoul\n",
      "None\n"
     ]
    },
    {
     "ename": "KeyError",
     "evalue": "'South Korea'",
     "output_type": "error",
     "traceback": [
      "\u001b[1;31m---------------------------------------------------------------------------\u001b[0m",
      "\u001b[1;31mKeyError\u001b[0m                                  Traceback (most recent call last)",
      "\u001b[1;32m<ipython-input-21-0c19d2906b1e>\u001b[0m in \u001b[0;36m<module>\u001b[1;34m\u001b[0m\n\u001b[0;32m      6\u001b[0m \u001b[0mprint\u001b[0m\u001b[1;33m(\u001b[0m\u001b[0mcity\u001b[0m\u001b[1;33m.\u001b[0m\u001b[0mget\u001b[0m\u001b[1;33m(\u001b[0m\u001b[1;34m\"South Korea\"\u001b[0m\u001b[1;33m,\u001b[0m\u001b[1;34m\"Seoul\"\u001b[0m\u001b[1;33m)\u001b[0m\u001b[1;33m)\u001b[0m                 \u001b[1;31m#No key error\u001b[0m\u001b[1;33m\u001b[0m\u001b[1;33m\u001b[0m\u001b[0m\n\u001b[0;32m      7\u001b[0m \u001b[0mprint\u001b[0m\u001b[1;33m(\u001b[0m\u001b[0mcity\u001b[0m\u001b[1;33m.\u001b[0m\u001b[0mget\u001b[0m\u001b[1;33m(\u001b[0m\u001b[1;34m\"South Korea\"\u001b[0m\u001b[1;33m)\u001b[0m\u001b[1;33m)\u001b[0m                         \u001b[1;31m#returns none value\u001b[0m\u001b[1;33m\u001b[0m\u001b[1;33m\u001b[0m\u001b[0m\n\u001b[1;32m----> 8\u001b[1;33m \u001b[0mprint\u001b[0m\u001b[1;33m(\u001b[0m\u001b[0mcity\u001b[0m\u001b[1;33m[\u001b[0m\u001b[1;34m\"South Korea\"\u001b[0m\u001b[1;33m]\u001b[0m\u001b[1;33m)\u001b[0m                             \u001b[1;31m#Key error\u001b[0m\u001b[1;33m\u001b[0m\u001b[1;33m\u001b[0m\u001b[0m\n\u001b[0m\u001b[0;32m      9\u001b[0m \u001b[1;33m\u001b[0m\u001b[0m\n",
      "\u001b[1;31mKeyError\u001b[0m: 'South Korea'"
     ]
    }
   ],
   "source": [
    "#A get method is  like an index withadded advantage that one can specify a default value\n",
    "#If the index is not found, this prevents key error\n",
    "\n",
    "city={\"US\":\"New York\",\"Japan\":\"Tokyo\",\"India\":\"Mumbai\"}\n",
    "\n",
    "print(city.get(\"South Korea\",\"Seoul\"))                 #No key error\n",
    "print(city.get(\"South Korea\"))                         #returns none value\n",
    "print(city[\"South Korea\"])                             #Key error\n",
    "\n"
   ]
  },
  {
   "cell_type": "code",
   "execution_count": null,
   "metadata": {},
   "outputs": [],
   "source": []
  }
 ],
 "metadata": {
  "kernelspec": {
   "display_name": "Python 3",
   "language": "python",
   "name": "python3"
  },
  "language_info": {
   "codemirror_mode": {
    "name": "ipython",
    "version": 3
   },
   "file_extension": ".py",
   "mimetype": "text/x-python",
   "name": "python",
   "nbconvert_exporter": "python",
   "pygments_lexer": "ipython3",
   "version": "3.8.3"
  }
 },
 "nbformat": 4,
 "nbformat_minor": 4
}
