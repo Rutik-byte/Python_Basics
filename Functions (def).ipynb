{
 "cells": [
  {
   "cell_type": "code",
   "execution_count": 1,
   "metadata": {},
   "outputs": [
    {
     "name": "stdout",
     "output_type": "stream",
     "text": [
      "DYPIEMR\n"
     ]
    }
   ],
   "source": [
    "def college():\n",
    "    print(\"DYPIEMR\")\n",
    "    \n",
    "college()\n"
   ]
  },
  {
   "cell_type": "code",
   "execution_count": 4,
   "metadata": {},
   "outputs": [
    {
     "name": "stdout",
     "output_type": "stream",
     "text": [
      "DYPIEMR Pune\n"
     ]
    }
   ],
   "source": [
    "def college(name,city):\n",
    "    print(name,city)\n",
    "    \n",
    "college('DYPIEMR','Pune')\n"
   ]
  },
  {
   "cell_type": "code",
   "execution_count": 5,
   "metadata": {},
   "outputs": [
    {
     "name": "stdout",
     "output_type": "stream",
     "text": [
      "This is DYPIEMR situated in Pune\n"
     ]
    }
   ],
   "source": [
    "def college(name,city):\n",
    "    str=\"This is {} situated in {}\".format(name,city)\n",
    "    return str\n",
    "\n",
    "details=college('DYPIEMR','Pune')\n",
    "print(details)\n",
    "    "
   ]
  },
  {
   "cell_type": "code",
   "execution_count": 9,
   "metadata": {},
   "outputs": [
    {
     "name": "stdout",
     "output_type": "stream",
     "text": [
      "This is add: 143\n",
      "This is diff: 35\n"
     ]
    }
   ],
   "source": [
    "def add_and_subtract(num1,num2):\n",
    "    add=num1+num2\n",
    "    sub=num1-num2\n",
    "    return add,sub\n",
    "\n",
    "add,sub=add_and_subtract(89,54)\n",
    "\n",
    "print(\"This is add:\",add)\n",
    "print(\"This is diff:\",sub)\n"
   ]
  },
  {
   "cell_type": "code",
   "execution_count": 10,
   "metadata": {},
   "outputs": [
    {
     "name": "stdout",
     "output_type": "stream",
     "text": [
      "143 35\n"
     ]
    }
   ],
   "source": [
    "def add_and_subtract(num1,num2):\n",
    "    add=num1+num2\n",
    "    sub=num1-num2\n",
    "    return add,sub\n",
    "\n",
    "operation=add_and_subtract\n",
    "num1,num2=operation(89,54)\n",
    "\n",
    "print(num1,num2)"
   ]
  },
  {
   "cell_type": "code",
   "execution_count": null,
   "metadata": {},
   "outputs": [],
   "source": []
  }
 ],
 "metadata": {
  "kernelspec": {
   "display_name": "Python 3",
   "language": "python",
   "name": "python3"
  },
  "language_info": {
   "codemirror_mode": {
    "name": "ipython",
    "version": 3
   },
   "file_extension": ".py",
   "mimetype": "text/x-python",
   "name": "python",
   "nbconvert_exporter": "python",
   "pygments_lexer": "ipython3",
   "version": "3.8.3"
  }
 },
 "nbformat": 4,
 "nbformat_minor": 4
}
