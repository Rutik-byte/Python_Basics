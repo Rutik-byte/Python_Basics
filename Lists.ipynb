{
 "cells": [
  {
   "cell_type": "code",
   "execution_count": 1,
   "metadata": {},
   "outputs": [
    {
     "name": "stdout",
     "output_type": "stream",
     "text": [
      "This\n",
      "is\n",
      "good\n",
      "[]\n"
     ]
    }
   ],
   "source": [
    "word_list=['This','is','good']                 #A list of 3 items\n",
    "\n",
    "print(word_list[0])\n",
    "print(word_list[1])\n",
    "print(word_list[2])\n",
    "\n",
    "empty=[]                                       #An empty list is created with empty brackets\n",
    "print(empty)\n"
   ]
  },
  {
   "cell_type": "code",
   "execution_count": 4,
   "metadata": {},
   "outputs": [
    {
     "name": "stdout",
     "output_type": "stream",
     "text": [
      "u\n",
      "i\n"
     ]
    }
   ],
   "source": [
    "#negative indexing in lists\n",
    "\n",
    "vowels=['a','e','i','o','u']\n",
    "\n",
    "print(vowels[-1])\n",
    "print(vowels[-3])\n"
   ]
  },
  {
   "cell_type": "code",
   "execution_count": 6,
   "metadata": {},
   "outputs": [
    {
     "name": "stdout",
     "output_type": "stream",
     "text": [
      "['I', 'K']\n",
      "['R']\n",
      "['R', 'U', 'T', 'I']\n",
      "['K']\n",
      "['R', 'U', 'T', 'I', 'K']\n"
     ]
    }
   ],
   "source": [
    "#List slicing in python\n",
    "\n",
    "name=['R','U','T','I','K']\n",
    "\n",
    "#Elements 4th to 5th\n",
    "print(name[3:5])\n",
    "\n",
    "#elements beginning to 3rd\n",
    "print(name[:-4])\n",
    "\n",
    "#elements beginning to 4th\n",
    "print(name[:4])\n",
    "\n",
    "#elements 5th to end\n",
    "print(name[4:])\n",
    "\n",
    "#elements beginning to end\n",
    "print(name[:])\n"
   ]
  },
  {
   "cell_type": "code",
   "execution_count": 7,
   "metadata": {},
   "outputs": [
    {
     "name": "stdout",
     "output_type": "stream",
     "text": [
      "[1, 4, 6, 8]\n",
      "[1, 3, 5, 7]\n"
     ]
    }
   ],
   "source": [
    "#Correcting mistake values in the list.\n",
    "\n",
    "odd=[2,4,6,8]\n",
    "\n",
    "#change the 1st item\n",
    "odd[0]=1\n",
    "print(odd)\n",
    "\n",
    "#change 2nd to 4th item\n",
    "odd[1:4]=[3,5,7]\n",
    "print(odd)\n"
   ]
  },
  {
   "cell_type": "code",
   "execution_count": 8,
   "metadata": {},
   "outputs": [
    {
     "name": "stdout",
     "output_type": "stream",
     "text": [
      "[1, 3, 5, 7]\n",
      "[1, 3, 5, 7, 9, 11, 13, 15]\n"
     ]
    }
   ],
   "source": [
    "#Apending and extending list in Python\n",
    "\n",
    "odd=[1,3,5]\n",
    "\n",
    "odd.append(7)\n",
    "print(odd)\n",
    "\n",
    "odd.extend([9,11,13,15])\n",
    "print(odd)\n"
   ]
  },
  {
   "cell_type": "code",
   "execution_count": 11,
   "metadata": {},
   "outputs": [
    {
     "name": "stdout",
     "output_type": "stream",
     "text": [
      "[1, 3, 5, 7, 9, 11, 13, 15]\n",
      "[1, 3, 5, 7, 9, 11, 13, 15]\n"
     ]
    }
   ],
   "source": [
    "#Concatenating lists\n",
    "\n",
    "odd=[1,3,5]\n",
    "print(odd+[7,9,11,13,15])\n",
    "\n",
    "a=odd+[7,9,11,13,15]\n",
    "print(a)\n"
   ]
  },
  {
   "cell_type": "code",
   "execution_count": 13,
   "metadata": {},
   "outputs": [
    {
     "name": "stdout",
     "output_type": "stream",
     "text": [
      "['a', 'e', 'o', 'u']\n",
      "['a', 'u']\n"
     ]
    },
    {
     "ename": "NameError",
     "evalue": "name 'vowels' is not defined",
     "output_type": "error",
     "traceback": [
      "\u001b[1;31m---------------------------------------------------------------------------\u001b[0m",
      "\u001b[1;31mNameError\u001b[0m                                 Traceback (most recent call last)",
      "\u001b[1;32m<ipython-input-13-449036d746f1>\u001b[0m in \u001b[0;36m<module>\u001b[1;34m\u001b[0m\n\u001b[0;32m     15\u001b[0m \u001b[1;33m\u001b[0m\u001b[0m\n\u001b[0;32m     16\u001b[0m \u001b[1;31m#error list not found\u001b[0m\u001b[1;33m\u001b[0m\u001b[1;33m\u001b[0m\u001b[1;33m\u001b[0m\u001b[0m\n\u001b[1;32m---> 17\u001b[1;33m \u001b[0mprint\u001b[0m\u001b[1;33m(\u001b[0m\u001b[0mvowels\u001b[0m\u001b[1;33m)\u001b[0m\u001b[1;33m\u001b[0m\u001b[1;33m\u001b[0m\u001b[0m\n\u001b[0m",
      "\u001b[1;31mNameError\u001b[0m: name 'vowels' is not defined"
     ]
    }
   ],
   "source": [
    "#Deleting list and list itens\n",
    "\n",
    "vowels=['a','e','i','o','u']\n",
    "\n",
    "#delete 1 item\n",
    "del vowels[2]\n",
    "print(vowels)\n",
    "\n",
    "#delete multiple items\n",
    "del vowels[1:3]\n",
    "print(vowels)\n",
    "\n",
    "#delete entire list\n",
    "del vowels\n",
    "\n",
    "#error list not found\n",
    "print(vowels)\n"
   ]
  },
  {
   "cell_type": "code",
   "execution_count": 16,
   "metadata": {},
   "outputs": [
    {
     "name": "stdout",
     "output_type": "stream",
     "text": [
      "15\n",
      "12\n",
      "0\n",
      "4\n",
      "[1, 2, 3, 8, 12, 21, 22, 23, 23, 23, 23, 28, 45, 45, 48, 55, 56, 56, 67, 69, 79, 90, 99]\n",
      "[99, 90, 79, 69, 67, 56, 56, 55, 48, 45, 45, 28, 23, 23, 23, 23, 22, 21, 12, 8, 3, 2, 1]\n"
     ]
    }
   ],
   "source": [
    "#Python list methods\n",
    "\n",
    "my_list=[1,3,2,8,55,67,45,23,23,23,45,56,90,21,23,48,12,22,28,99,56,79,69]\n",
    "\n",
    "print(my_list.index(48))\n",
    "print(my_list.index(90))\n",
    "print(my_list.index(1))\n",
    "\n",
    "print(my_list.count(23))\n",
    "\n",
    "my_list.sort()\n",
    "print(my_list)\n",
    "\n",
    "my_list.reverse()\n",
    "print(my_list)\n"
   ]
  },
  {
   "cell_type": "code",
   "execution_count": 17,
   "metadata": {},
   "outputs": [
    {
     "name": "stdout",
     "output_type": "stream",
     "text": [
      "[1, 3, 5, 6, 8, 10]\n"
     ]
    }
   ],
   "source": [
    "#Concatenating lists\n",
    "\n",
    "odd=[1,3,5]\n",
    "even=[6,8,10]\n",
    "print(odd+even)\n"
   ]
  },
  {
   "cell_type": "code",
   "execution_count": 18,
   "metadata": {},
   "outputs": [
    {
     "name": "stdout",
     "output_type": "stream",
     "text": [
      "[1, 'Rutik', [1, 3, 5]]\n"
     ]
    }
   ],
   "source": [
    "#A list can contain items of multiple types\n",
    "\n",
    "odd=[1,3,5]\n",
    "generic_list=[1,\"Rutik\",(odd)]\n",
    "\n",
    "print(generic_list)"
   ]
  },
  {
   "cell_type": "code",
   "execution_count": null,
   "metadata": {},
   "outputs": [],
   "source": []
  }
 ],
 "metadata": {
  "kernelspec": {
   "display_name": "Python 3",
   "language": "python",
   "name": "python3"
  },
  "language_info": {
   "codemirror_mode": {
    "name": "ipython",
    "version": 3
   },
   "file_extension": ".py",
   "mimetype": "text/x-python",
   "name": "python",
   "nbconvert_exporter": "python",
   "pygments_lexer": "ipython3",
   "version": "3.8.3"
  }
 },
 "nbformat": 4,
 "nbformat_minor": 4
}
