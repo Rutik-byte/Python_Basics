{
 "cells": [
  {
   "cell_type": "code",
   "execution_count": 4,
   "metadata": {},
   "outputs": [
    {
     "name": "stdout",
     "output_type": "stream",
     "text": [
      "Empty DataFrame\n",
      "Columns: []\n",
      "Index: []\n"
     ]
    }
   ],
   "source": [
    "#Creating an empty DataFrame\n",
    "\n",
    "import pandas as pd\n",
    "\n",
    "df=pd.DataFrame()\n",
    "print(df)"
   ]
  },
  {
   "cell_type": "code",
   "execution_count": 5,
   "metadata": {},
   "outputs": [
    {
     "name": "stdout",
     "output_type": "stream",
     "text": [
      "   0\n",
      "0  1\n",
      "1  2\n",
      "2  3\n",
      "3  4\n",
      "4  5\n"
     ]
    }
   ],
   "source": [
    "#Creating DataFrame from lists\n",
    "\n",
    "data=[1,2,3,4,5]\n",
    "df=pd.DataFrame(data)\n",
    "print(df)"
   ]
  },
  {
   "cell_type": "code",
   "execution_count": 6,
   "metadata": {},
   "outputs": [
    {
     "name": "stdout",
     "output_type": "stream",
     "text": [
      "     Name  Age\n",
      "0    Alex   10\n",
      "1     Bob   12\n",
      "2  Clarke   13\n"
     ]
    }
   ],
   "source": [
    "#Assigning names to columns\n",
    "\n",
    "data=[['Alex',10],['Bob',12],['Clarke',13]]\n",
    "df=pd.DataFrame(data,columns=['Name','Age'])\n",
    "print(df)"
   ]
  },
  {
   "cell_type": "code",
   "execution_count": 7,
   "metadata": {},
   "outputs": [
    {
     "name": "stdout",
     "output_type": "stream",
     "text": [
      "     Name   Age\n",
      "0    Alex  10.0\n",
      "1     Bob  12.0\n",
      "2  Clarke  13.0\n"
     ]
    }
   ],
   "source": [
    "data=[['Alex',10],['Bob',12],['Clarke',13]]\n",
    "df=pd.DataFrame(data,columns=['Name','Age'],dtype=float)\n",
    "print(df)"
   ]
  },
  {
   "cell_type": "code",
   "execution_count": 13,
   "metadata": {},
   "outputs": [
    {
     "name": "stdout",
     "output_type": "stream",
     "text": [
      "    Name  Age\n",
      "0  Rutik   21\n",
      "1    Tom   34\n",
      "2     Om   12\n"
     ]
    }
   ],
   "source": [
    "#Creating a DataFrame from Dict of ndarrays / Lists\n",
    "\n",
    "data={'Name':['Rutik','Tom','Om'],'Age':[21,34,12]}\n",
    "df=pd.DataFrame(data)\n",
    "print(df)"
   ]
  },
  {
   "cell_type": "code",
   "execution_count": 14,
   "metadata": {},
   "outputs": [
    {
     "name": "stdout",
     "output_type": "stream",
     "text": [
      "        Name  Age\n",
      "rank1  Rutik   21\n",
      "rank2    Tom   34\n",
      "rank3     Om   12\n"
     ]
    }
   ],
   "source": [
    "data={'Name':['Rutik','Tom','Om'],'Age':[21,34,12]}\n",
    "df=pd.DataFrame(data,index=['rank1','rank2','rank3'])\n",
    "print(df)"
   ]
  },
  {
   "cell_type": "code",
   "execution_count": 16,
   "metadata": {},
   "outputs": [
    {
     "name": "stdout",
     "output_type": "stream",
     "text": [
      "   one  two\n",
      "a  1.0    1\n",
      "b  2.0    2\n",
      "c  3.0    3\n",
      "d  NaN    4\n"
     ]
    }
   ],
   "source": [
    "#Creating a DataFrame from Dict of Series\n",
    "\n",
    "data={'one':pd.Series([1,2,3],index=['a','b','c'],dtype=float),'two':pd.Series([1,2,3,4],index=['a','b','c','d'],dtype=int)}\n",
    "df=pd.DataFrame(data)\n",
    "print(df)"
   ]
  },
  {
   "cell_type": "code",
   "execution_count": null,
   "metadata": {},
   "outputs": [],
   "source": []
  }
 ],
 "metadata": {
  "kernelspec": {
   "display_name": "Python 3",
   "language": "python",
   "name": "python3"
  },
  "language_info": {
   "codemirror_mode": {
    "name": "ipython",
    "version": 3
   },
   "file_extension": ".py",
   "mimetype": "text/x-python",
   "name": "python",
   "nbconvert_exporter": "python",
   "pygments_lexer": "ipython3",
   "version": "3.8.3"
  }
 },
 "nbformat": 4,
 "nbformat_minor": 4
}
