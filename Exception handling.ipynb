{
 "cells": [
  {
   "cell_type": "code",
   "execution_count": 2,
   "metadata": {},
   "outputs": [
    {
     "name": "stdout",
     "output_type": "stream",
     "text": [
      "Step 1\n",
      "Divided by zero\n",
      "This will be always executed\n"
     ]
    }
   ],
   "source": [
    "try:\n",
    "    print(\"Step 1\")\n",
    "    5/0                                                     #An exception happens here\n",
    "    \n",
    "except ZeroDivisionError:\n",
    "    print(\"Divided by zero\")                                #Exeption is caught here\n",
    "    \n",
    "finally:\n",
    "    print(\"This will be always executed\")                   #This will be executed whether there is exception or not\n",
    "    "
   ]
  },
  {
   "cell_type": "code",
   "execution_count": null,
   "metadata": {},
   "outputs": [],
   "source": []
  }
 ],
 "metadata": {
  "kernelspec": {
   "display_name": "Python 3",
   "language": "python",
   "name": "python3"
  },
  "language_info": {
   "codemirror_mode": {
    "name": "ipython",
    "version": 3
   },
   "file_extension": ".py",
   "mimetype": "text/x-python",
   "name": "python",
   "nbconvert_exporter": "python",
   "pygments_lexer": "ipython3",
   "version": "3.8.3"
  }
 },
 "nbformat": 4,
 "nbformat_minor": 4
}
