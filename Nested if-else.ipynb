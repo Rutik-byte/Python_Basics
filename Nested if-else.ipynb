{
 "cells": [
  {
   "cell_type": "code",
   "execution_count": 1,
   "metadata": {},
   "outputs": [
    {
     "name": "stdout",
     "output_type": "stream",
     "text": [
      "Enter your percentage:94\n",
      "You are eligible for SCIENCE stream!\n"
     ]
    }
   ],
   "source": [
    "#What to pursue ?\n",
    "\n",
    "n=int(input(\"Enter your percentage:\"))\n",
    "\n",
    "if (n>=75):\n",
    "    if (n>=85):\n",
    "        print(\"You are eligible for SCIENCE stream!\")\n",
    "    else:\n",
    "        print(\"You are eligible for COMMERCE stream!\")\n",
    "        \n",
    "elif (n>=65)and(n<75):\n",
    "    print(\"You are eligible for ARTS stream!\")\n",
    "\n",
    "else:\n",
    "    print(\"Sorry, You are not eligible\")"
   ]
  },
  {
   "cell_type": "code",
   "execution_count": 2,
   "metadata": {},
   "outputs": [
    {
     "name": "stdout",
     "output_type": "stream",
     "text": [
      "Enter your percentage:82\n",
      "You are eligible for COMMERCE stream!\n"
     ]
    }
   ],
   "source": [
    "#What to pursue ?\n",
    "\n",
    "n=int(input(\"Enter your percentage:\"))\n",
    "\n",
    "if (n>=75):\n",
    "    if (n>=85):\n",
    "        print(\"You are eligible for SCIENCE stream!\")\n",
    "    else:\n",
    "        print(\"You are eligible for COMMERCE stream!\")\n",
    "        \n",
    "elif (n>=65)and(n<75):\n",
    "    print(\"You are eligible for ARTS stream!\")\n",
    "\n",
    "else:\n",
    "    print(\"Sorry, You are not eligible\")"
   ]
  },
  {
   "cell_type": "code",
   "execution_count": 3,
   "metadata": {},
   "outputs": [
    {
     "name": "stdout",
     "output_type": "stream",
     "text": [
      "Enter your percentage:69\n",
      "You are eligible for ARTS stream!\n"
     ]
    }
   ],
   "source": [
    "#What to pursue ?\n",
    "\n",
    "n=int(input(\"Enter your percentage:\"))\n",
    "\n",
    "if (n>=75):\n",
    "    if (n>=85):\n",
    "        print(\"You are eligible for SCIENCE stream!\")\n",
    "    else:\n",
    "        print(\"You are eligible for COMMERCE stream!\")\n",
    "        \n",
    "elif (n>=65)and(n<75):\n",
    "    print(\"You are eligible for ARTS stream!\")\n",
    "\n",
    "else:\n",
    "    print(\"Sorry, You are not eligible\")"
   ]
  },
  {
   "cell_type": "code",
   "execution_count": 4,
   "metadata": {},
   "outputs": [
    {
     "name": "stdout",
     "output_type": "stream",
     "text": [
      "Enter your percentage:55\n",
      "Sorry, You are not eligible\n"
     ]
    }
   ],
   "source": [
    "#What to pursue ?\n",
    "\n",
    "n=int(input(\"Enter your percentage:\"))\n",
    "\n",
    "if (n>=75):\n",
    "    if (n>=85):\n",
    "        print(\"You are eligible for SCIENCE stream!\")\n",
    "    else:\n",
    "        print(\"You are eligible for COMMERCE stream!\")\n",
    "        \n",
    "elif (n>=65)and(n<75):\n",
    "    print(\"You are eligible for ARTS stream!\")\n",
    "\n",
    "else:\n",
    "    print(\"Sorry, You are not eligible\")"
   ]
  },
  {
   "cell_type": "code",
   "execution_count": null,
   "metadata": {},
   "outputs": [],
   "source": []
  }
 ],
 "metadata": {
  "kernelspec": {
   "display_name": "Python 3",
   "language": "python",
   "name": "python3"
  },
  "language_info": {
   "codemirror_mode": {
    "name": "ipython",
    "version": 3
   },
   "file_extension": ".py",
   "mimetype": "text/x-python",
   "name": "python",
   "nbconvert_exporter": "python",
   "pygments_lexer": "ipython3",
   "version": "3.8.3"
  }
 },
 "nbformat": 4,
 "nbformat_minor": 4
}
