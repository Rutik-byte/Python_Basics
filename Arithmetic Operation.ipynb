{
 "cells": [
  {
   "cell_type": "code",
   "execution_count": 1,
   "metadata": {},
   "outputs": [
    {
     "name": "stdout",
     "output_type": "stream",
     "text": [
      "Arithmetic Operator\n",
      "Addition 14\n",
      "Subtraction -4\n",
      "Multiplication 45\n",
      "Division 0.5555555555555556\n",
      "Floor Division 0\n",
      "Modulus 5\n",
      "Exponential 1953125\n"
     ]
    }
   ],
   "source": [
    "#Performing Arithmetic Operation Here\n",
    "print(\"Arithmetic Operator\")\n",
    "a=5 ; b=9\n",
    "print(\"Addition\", a+b)\n",
    "print(\"Subtraction\", a-b)\n",
    "print(\"Multiplication\", a*b)\n",
    "print(\"Division\", a/b)\n",
    "print(\"Floor Division\", a//b)\n",
    "print(\"Modulus\", a%b)\n",
    "print(\"Exponential\", a**b)\n"
   ]
  },
  {
   "cell_type": "code",
   "execution_count": null,
   "metadata": {},
   "outputs": [],
   "source": []
  }
 ],
 "metadata": {
  "kernelspec": {
   "display_name": "Python 3",
   "language": "python",
   "name": "python3"
  },
  "language_info": {
   "codemirror_mode": {
    "name": "ipython",
    "version": 3
   },
   "file_extension": ".py",
   "mimetype": "text/x-python",
   "name": "python",
   "nbconvert_exporter": "python",
   "pygments_lexer": "ipython3",
   "version": "3.8.3"
  }
 },
 "nbformat": 4,
 "nbformat_minor": 4
}
